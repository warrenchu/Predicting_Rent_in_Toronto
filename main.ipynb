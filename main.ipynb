{
 "cells": [
  {
   "cell_type": "markdown",
   "source": [
    "## Predicting Rent in Toronto\n",
    "\n",
    "In this project I will look at rent in Toronto. The data was acquired from\n",
    "https://www.kaggle.com/rajacsp/toronto-apartment-price.\n",
    "\n",
    "Firstly, I will import the appropriate packages and data."
   ],
   "metadata": {
    "collapsed": false,
    "pycharm": {
     "name": "#%% md\n"
    }
   }
  },
  {
   "cell_type": "code",
   "execution_count": 17,
   "metadata": {
    "collapsed": true
   },
   "outputs": [],
   "source": [
    "import pandas as pd\n",
    "import numpy as np\n",
    "from sklearn.metrics import mean_squared_error\n",
    "from sklearn.ensemble import RandomForestRegressor\n",
    "from sklearn.model_selection import train_test_split\n",
    "import re"
   ]
  },
  {
   "cell_type": "markdown",
   "source": [
    "Below I imported the data and removed the dollar signs from the prices."
   ],
   "metadata": {
    "collapsed": false,
    "pycharm": {
     "name": "#%% md\n"
    }
   }
  },
  {
   "cell_type": "code",
   "execution_count": 18,
   "outputs": [
    {
     "data": {
      "text/plain": "   Bedroom  Bathroom  Den                                            Address  \\\n0        2       2.0    0  3985 Grand Park Drive, 3985 Grand Park Dr, Mis...   \n1        1       1.0    1        361 Front St W, Toronto, ON M5V 3R5, Canada   \n2        1       1.0    0             89 McGill Street, Toronto, ON, M5B 0B1   \n3        2       2.0    0               10 York Street, Toronto, ON, M5J 0E1   \n4        1       1.0    0      80 St Patrick St, Toronto, ON M5T 2X6, Canada   \n\n         Lat       Long   Price  \n0  43.581639 -79.648193  2450.0  \n1  43.643051 -79.391643  2150.0  \n2  43.660605 -79.378635  1950.0  \n3  43.641087 -79.381405  2900.0  \n4  43.652487 -79.389622  1800.0  ",
      "text/html": "<div>\n<style scoped>\n    .dataframe tbody tr th:only-of-type {\n        vertical-align: middle;\n    }\n\n    .dataframe tbody tr th {\n        vertical-align: top;\n    }\n\n    .dataframe thead th {\n        text-align: right;\n    }\n</style>\n<table border=\"1\" class=\"dataframe\">\n  <thead>\n    <tr style=\"text-align: right;\">\n      <th></th>\n      <th>Bedroom</th>\n      <th>Bathroom</th>\n      <th>Den</th>\n      <th>Address</th>\n      <th>Lat</th>\n      <th>Long</th>\n      <th>Price</th>\n    </tr>\n  </thead>\n  <tbody>\n    <tr>\n      <th>0</th>\n      <td>2</td>\n      <td>2.0</td>\n      <td>0</td>\n      <td>3985 Grand Park Drive, 3985 Grand Park Dr, Mis...</td>\n      <td>43.581639</td>\n      <td>-79.648193</td>\n      <td>2450.0</td>\n    </tr>\n    <tr>\n      <th>1</th>\n      <td>1</td>\n      <td>1.0</td>\n      <td>1</td>\n      <td>361 Front St W, Toronto, ON M5V 3R5, Canada</td>\n      <td>43.643051</td>\n      <td>-79.391643</td>\n      <td>2150.0</td>\n    </tr>\n    <tr>\n      <th>2</th>\n      <td>1</td>\n      <td>1.0</td>\n      <td>0</td>\n      <td>89 McGill Street, Toronto, ON, M5B 0B1</td>\n      <td>43.660605</td>\n      <td>-79.378635</td>\n      <td>1950.0</td>\n    </tr>\n    <tr>\n      <th>3</th>\n      <td>2</td>\n      <td>2.0</td>\n      <td>0</td>\n      <td>10 York Street, Toronto, ON, M5J 0E1</td>\n      <td>43.641087</td>\n      <td>-79.381405</td>\n      <td>2900.0</td>\n    </tr>\n    <tr>\n      <th>4</th>\n      <td>1</td>\n      <td>1.0</td>\n      <td>0</td>\n      <td>80 St Patrick St, Toronto, ON M5T 2X6, Canada</td>\n      <td>43.652487</td>\n      <td>-79.389622</td>\n      <td>1800.0</td>\n    </tr>\n  </tbody>\n</table>\n</div>"
     },
     "execution_count": 18,
     "metadata": {},
     "output_type": "execute_result"
    }
   ],
   "source": [
    "all_data_df = pd.read_csv('Toronto_apartment_rentals_2018.csv')\n",
    "all_data_df.head()\n",
    "# Remove the dollar signs\n",
    "all_data_df['Price'] = all_data_df['Price'].replace('[\\$,]', '', regex=True).astype(float)\n",
    "all_data_df.head()"
   ],
   "metadata": {
    "collapsed": false,
    "pycharm": {
     "name": "#%%\n"
    }
   }
  },
  {
   "cell_type": "markdown",
   "source": [
    "Next I'll check for missing values. There are none."
   ],
   "metadata": {
    "collapsed": false
   }
  },
  {
   "cell_type": "code",
   "execution_count": 19,
   "outputs": [
    {
     "data": {
      "text/plain": "Bedroom     0\nBathroom    0\nDen         0\nAddress     0\nLat         0\nLong        0\nPrice       0\ndtype: int64"
     },
     "execution_count": 19,
     "metadata": {},
     "output_type": "execute_result"
    }
   ],
   "source": [
    "all_data_df.isna().sum()"
   ],
   "metadata": {
    "collapsed": false,
    "pycharm": {
     "name": "#%%\n"
    }
   }
  },
  {
   "cell_type": "markdown",
   "source": [
    "For feature engineering, I will focus on the location. Instead of using\n",
    "latitude and longitude, I will focus on the first three letters of the postal code as the first three letters can tell us\n",
    "what neighbourhood the home is located in. The latitude and longitude are far too specific.\n",
    "\n"
   ],
   "metadata": {
    "collapsed": false,
    "pycharm": {
     "name": "#%% md\n"
    }
   }
  },
  {
   "cell_type": "code",
   "execution_count": 20,
   "outputs": [
    {
     "data": {
      "text/plain": "      Bedroom  Bathroom  Den   Price postal\n0           2       2.0    0  2450.0    L5B\n1           1       1.0    1  2150.0    M5V\n2           1       1.0    0  1950.0    M5B\n3           2       2.0    0  2900.0    M5J\n4           1       1.0    0  1800.0    M5T\n...       ...       ...  ...     ...    ...\n1119        3       1.0    0  3000.0    L7S\n1120        1       1.0    0  1200.0    L6M\n1121        1       1.0    0  1800.0    M4C\n1122        2       1.0    0  2200.0    M5B\n1123        1       1.0    0  2150.0    M4X\n\n[1124 rows x 5 columns]",
      "text/html": "<div>\n<style scoped>\n    .dataframe tbody tr th:only-of-type {\n        vertical-align: middle;\n    }\n\n    .dataframe tbody tr th {\n        vertical-align: top;\n    }\n\n    .dataframe thead th {\n        text-align: right;\n    }\n</style>\n<table border=\"1\" class=\"dataframe\">\n  <thead>\n    <tr style=\"text-align: right;\">\n      <th></th>\n      <th>Bedroom</th>\n      <th>Bathroom</th>\n      <th>Den</th>\n      <th>Price</th>\n      <th>postal</th>\n    </tr>\n  </thead>\n  <tbody>\n    <tr>\n      <th>0</th>\n      <td>2</td>\n      <td>2.0</td>\n      <td>0</td>\n      <td>2450.0</td>\n      <td>L5B</td>\n    </tr>\n    <tr>\n      <th>1</th>\n      <td>1</td>\n      <td>1.0</td>\n      <td>1</td>\n      <td>2150.0</td>\n      <td>M5V</td>\n    </tr>\n    <tr>\n      <th>2</th>\n      <td>1</td>\n      <td>1.0</td>\n      <td>0</td>\n      <td>1950.0</td>\n      <td>M5B</td>\n    </tr>\n    <tr>\n      <th>3</th>\n      <td>2</td>\n      <td>2.0</td>\n      <td>0</td>\n      <td>2900.0</td>\n      <td>M5J</td>\n    </tr>\n    <tr>\n      <th>4</th>\n      <td>1</td>\n      <td>1.0</td>\n      <td>0</td>\n      <td>1800.0</td>\n      <td>M5T</td>\n    </tr>\n    <tr>\n      <th>...</th>\n      <td>...</td>\n      <td>...</td>\n      <td>...</td>\n      <td>...</td>\n      <td>...</td>\n    </tr>\n    <tr>\n      <th>1119</th>\n      <td>3</td>\n      <td>1.0</td>\n      <td>0</td>\n      <td>3000.0</td>\n      <td>L7S</td>\n    </tr>\n    <tr>\n      <th>1120</th>\n      <td>1</td>\n      <td>1.0</td>\n      <td>0</td>\n      <td>1200.0</td>\n      <td>L6M</td>\n    </tr>\n    <tr>\n      <th>1121</th>\n      <td>1</td>\n      <td>1.0</td>\n      <td>0</td>\n      <td>1800.0</td>\n      <td>M4C</td>\n    </tr>\n    <tr>\n      <th>1122</th>\n      <td>2</td>\n      <td>1.0</td>\n      <td>0</td>\n      <td>2200.0</td>\n      <td>M5B</td>\n    </tr>\n    <tr>\n      <th>1123</th>\n      <td>1</td>\n      <td>1.0</td>\n      <td>0</td>\n      <td>2150.0</td>\n      <td>M4X</td>\n    </tr>\n  </tbody>\n</table>\n<p>1124 rows × 5 columns</p>\n</div>"
     },
     "execution_count": 20,
     "metadata": {},
     "output_type": "execute_result"
    }
   ],
   "source": [
    "reg = re.compile('[LMlm]+\\d+\\D')\n",
    "post_firstthree=[]\n",
    "city = []\n",
    "for add in all_data_df['Address']:\n",
    "    ft_list = reg.findall(add)\n",
    "    if ft_list == []:\n",
    "        post_firstthree.append('NA')\n",
    "    else:\n",
    "        post_firstthree.append(ft_list[0])\n",
    "all_data_df['postal'] = post_firstthree\n",
    "all_data_df['postal'] = all_data_df['postal'].str.upper()\n",
    "all_data_df.drop(['Address', 'Lat', 'Long'], axis=1)\n",
    "\n",
    "# city indicator- in our out of Toronto?\n",
    "\n"
   ],
   "metadata": {
    "collapsed": false,
    "pycharm": {
     "name": "#%%\n"
    }
   }
  },
  {
   "cell_type": "markdown",
   "source": [
    "Next I'll encode the postal codes as dummy variables."
   ],
   "metadata": {
    "collapsed": false
   }
  },
  {
   "cell_type": "code",
   "execution_count": 21,
   "outputs": [],
   "source": [
    "all_data_df = pd.get_dummies(all_data_df)"
   ],
   "metadata": {
    "collapsed": false,
    "pycharm": {
     "name": "#%%\n"
    }
   }
  },
  {
   "cell_type": "markdown",
   "source": [
    "Now I'll split the data into a testing and training set."
   ],
   "metadata": {
    "collapsed": false
   }
  },
  {
   "cell_type": "code",
   "execution_count": 22,
   "outputs": [
    {
     "data": {
      "text/plain": "(281, 768)"
     },
     "execution_count": 22,
     "metadata": {},
     "output_type": "execute_result"
    }
   ],
   "source": [
    "trainX, testX, trainY, testY = train_test_split(all_data_df.drop(['Price'], axis=1), all_data_df['Price'])\n",
    "trainX.shape\n",
    "testX.shape\n"
   ],
   "metadata": {
    "collapsed": false,
    "pycharm": {
     "name": "#%%\n"
    }
   }
  },
  {
   "cell_type": "markdown",
   "source": [
    "## The model\n",
    "Now it's time to create the model. I'll use the RandomForestRegressor. I'll also check the model's score."
   ],
   "metadata": {
    "collapsed": false,
    "pycharm": {
     "name": "#%% md\n"
    }
   }
  },
  {
   "cell_type": "code",
   "execution_count": 23,
   "outputs": [
    {
     "data": {
      "text/plain": "0.9876227122880562"
     },
     "execution_count": 23,
     "metadata": {},
     "output_type": "execute_result"
    }
   ],
   "source": [
    "model = RandomForestRegressor()\n",
    "model.fit(trainX, trainY)\n",
    "predictions = model.predict(testX)\n",
    "# Check model accuracy\n",
    "model.score(testX, testY)"
   ],
   "metadata": {
    "collapsed": false,
    "pycharm": {
     "name": "#%%\n"
    }
   }
  },
  {
   "cell_type": "markdown",
   "source": [
    "The model's score is 0.9876."
   ],
   "metadata": {
    "collapsed": false,
    "pycharm": {
     "name": "#%% md\n"
    }
   }
  }
 ],
 "metadata": {
  "kernelspec": {
   "display_name": "Python 3",
   "language": "python",
   "name": "python3"
  },
  "language_info": {
   "codemirror_mode": {
    "name": "ipython",
    "version": 2
   },
   "file_extension": ".py",
   "mimetype": "text/x-python",
   "name": "python",
   "nbconvert_exporter": "python",
   "pygments_lexer": "ipython2",
   "version": "2.7.6"
  }
 },
 "nbformat": 4,
 "nbformat_minor": 0
}