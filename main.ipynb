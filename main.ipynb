{
 "cells": [
  {
   "cell_type": "markdown",
   "source": [
    "## Predicting Rent in Toronto\n",
    "\n",
    "In this project I will look at rent in Toronto. The data was acquired from\n",
    "https://www.kaggle.com/rajacsp/toronto-apartment-price.\n",
    "\n",
    "Firstly, I will import the appropriate packages and data."
   ],
   "metadata": {
    "collapsed": false,
    "pycharm": {
     "name": "#%% md\n"
    }
   }
  },
  {
   "cell_type": "code",
   "execution_count": 76,
   "metadata": {
    "collapsed": true
   },
   "outputs": [],
   "source": [
    "import pandas as pd\n",
    "import numpy as np\n",
    "from sklearn.metrics import r2_score,mean_absolute_error\n",
    "from sklearn.ensemble import RandomForestRegressor\n",
    "from sklearn.model_selection import train_test_split\n",
    "import re\n",
    "from xgboost import XGBRegressor\n",
    "import seaborn as sns\n",
    "from scipy import stats"
   ]
  },
  {
   "cell_type": "markdown",
   "source": [
    "Below I imported the data and removed the dollar signs from the prices."
   ],
   "metadata": {
    "collapsed": false,
    "pycharm": {
     "name": "#%% md\n"
    }
   }
  },
  {
   "cell_type": "code",
   "execution_count": 77,
   "outputs": [
    {
     "data": {
      "text/plain": "   Bedroom  Bathroom  Den                                            Address  \\\n0        2       2.0    0  3985 Grand Park Drive, 3985 Grand Park Dr, Mis...   \n1        1       1.0    1        361 Front St W, Toronto, ON M5V 3R5, Canada   \n2        1       1.0    0             89 McGill Street, Toronto, ON, M5B 0B1   \n3        2       2.0    0               10 York Street, Toronto, ON, M5J 0E1   \n4        1       1.0    0      80 St Patrick St, Toronto, ON M5T 2X6, Canada   \n\n         Lat       Long   Price  \n0  43.581639 -79.648193  2450.0  \n1  43.643051 -79.391643  2150.0  \n2  43.660605 -79.378635  1950.0  \n3  43.641087 -79.381405  2900.0  \n4  43.652487 -79.389622  1800.0  ",
      "text/html": "<div>\n<style scoped>\n    .dataframe tbody tr th:only-of-type {\n        vertical-align: middle;\n    }\n\n    .dataframe tbody tr th {\n        vertical-align: top;\n    }\n\n    .dataframe thead th {\n        text-align: right;\n    }\n</style>\n<table border=\"1\" class=\"dataframe\">\n  <thead>\n    <tr style=\"text-align: right;\">\n      <th></th>\n      <th>Bedroom</th>\n      <th>Bathroom</th>\n      <th>Den</th>\n      <th>Address</th>\n      <th>Lat</th>\n      <th>Long</th>\n      <th>Price</th>\n    </tr>\n  </thead>\n  <tbody>\n    <tr>\n      <th>0</th>\n      <td>2</td>\n      <td>2.0</td>\n      <td>0</td>\n      <td>3985 Grand Park Drive, 3985 Grand Park Dr, Mis...</td>\n      <td>43.581639</td>\n      <td>-79.648193</td>\n      <td>2450.0</td>\n    </tr>\n    <tr>\n      <th>1</th>\n      <td>1</td>\n      <td>1.0</td>\n      <td>1</td>\n      <td>361 Front St W, Toronto, ON M5V 3R5, Canada</td>\n      <td>43.643051</td>\n      <td>-79.391643</td>\n      <td>2150.0</td>\n    </tr>\n    <tr>\n      <th>2</th>\n      <td>1</td>\n      <td>1.0</td>\n      <td>0</td>\n      <td>89 McGill Street, Toronto, ON, M5B 0B1</td>\n      <td>43.660605</td>\n      <td>-79.378635</td>\n      <td>1950.0</td>\n    </tr>\n    <tr>\n      <th>3</th>\n      <td>2</td>\n      <td>2.0</td>\n      <td>0</td>\n      <td>10 York Street, Toronto, ON, M5J 0E1</td>\n      <td>43.641087</td>\n      <td>-79.381405</td>\n      <td>2900.0</td>\n    </tr>\n    <tr>\n      <th>4</th>\n      <td>1</td>\n      <td>1.0</td>\n      <td>0</td>\n      <td>80 St Patrick St, Toronto, ON M5T 2X6, Canada</td>\n      <td>43.652487</td>\n      <td>-79.389622</td>\n      <td>1800.0</td>\n    </tr>\n  </tbody>\n</table>\n</div>"
     },
     "execution_count": 77,
     "metadata": {},
     "output_type": "execute_result"
    }
   ],
   "source": [
    "all_data_df = pd.read_csv('Toronto_apartment_rentals_2018.csv')\n",
    "all_data_df.head()\n",
    "# Remove the dollar signs\n",
    "all_data_df['Price'] = all_data_df['Price'].replace('[\\$,]', '', regex=True).astype(float)\n",
    "all_data_df.head()"
   ],
   "metadata": {
    "collapsed": false,
    "pycharm": {
     "name": "#%%\n"
    }
   }
  },
  {
   "cell_type": "markdown",
   "source": [
    "Next I'll check for missing values. There are none."
   ],
   "metadata": {
    "collapsed": false
   }
  },
  {
   "cell_type": "code",
   "execution_count": 78,
   "outputs": [
    {
     "data": {
      "text/plain": "Bedroom     0\nBathroom    0\nDen         0\nAddress     0\nLat         0\nLong        0\nPrice       0\ndtype: int64"
     },
     "execution_count": 78,
     "metadata": {},
     "output_type": "execute_result"
    }
   ],
   "source": [
    "all_data_df.isna().sum()"
   ],
   "metadata": {
    "collapsed": false,
    "pycharm": {
     "name": "#%%\n"
    }
   }
  },
  {
   "cell_type": "markdown",
   "source": [
    "For feature engineering, I will focus on the location. Instead of using\n",
    "latitude and longitude, I will focus on the first three letters of the postal code as the first three letters can tell us\n",
    "what neighbourhood the home is located in. The latitude and longitude are far too specific.\n",
    "\n"
   ],
   "metadata": {
    "collapsed": false,
    "pycharm": {
     "name": "#%% md\n"
    }
   }
  },
  {
   "cell_type": "code",
   "execution_count": 79,
   "outputs": [
    {
     "data": {
      "text/plain": "   Bedroom  Bathroom  Den   Price postal\n0        2       2.0    0  2450.0    L5B\n1        1       1.0    1  2150.0    M5V\n2        1       1.0    0  1950.0    M5B\n3        2       2.0    0  2900.0    M5J\n4        1       1.0    0  1800.0    M5T",
      "text/html": "<div>\n<style scoped>\n    .dataframe tbody tr th:only-of-type {\n        vertical-align: middle;\n    }\n\n    .dataframe tbody tr th {\n        vertical-align: top;\n    }\n\n    .dataframe thead th {\n        text-align: right;\n    }\n</style>\n<table border=\"1\" class=\"dataframe\">\n  <thead>\n    <tr style=\"text-align: right;\">\n      <th></th>\n      <th>Bedroom</th>\n      <th>Bathroom</th>\n      <th>Den</th>\n      <th>Price</th>\n      <th>postal</th>\n    </tr>\n  </thead>\n  <tbody>\n    <tr>\n      <th>0</th>\n      <td>2</td>\n      <td>2.0</td>\n      <td>0</td>\n      <td>2450.0</td>\n      <td>L5B</td>\n    </tr>\n    <tr>\n      <th>1</th>\n      <td>1</td>\n      <td>1.0</td>\n      <td>1</td>\n      <td>2150.0</td>\n      <td>M5V</td>\n    </tr>\n    <tr>\n      <th>2</th>\n      <td>1</td>\n      <td>1.0</td>\n      <td>0</td>\n      <td>1950.0</td>\n      <td>M5B</td>\n    </tr>\n    <tr>\n      <th>3</th>\n      <td>2</td>\n      <td>2.0</td>\n      <td>0</td>\n      <td>2900.0</td>\n      <td>M5J</td>\n    </tr>\n    <tr>\n      <th>4</th>\n      <td>1</td>\n      <td>1.0</td>\n      <td>0</td>\n      <td>1800.0</td>\n      <td>M5T</td>\n    </tr>\n  </tbody>\n</table>\n</div>"
     },
     "execution_count": 79,
     "metadata": {},
     "output_type": "execute_result"
    }
   ],
   "source": [
    "reg = re.compile('[LMlm]+\\d+\\D')\n",
    "post_firstthree=[]\n",
    "for add in all_data_df['Address']:\n",
    "    ft_list = reg.findall(add)\n",
    "    if ft_list == []:\n",
    "        post_firstthree.append('NA')\n",
    "    else:\n",
    "        post_firstthree.append(ft_list[0])\n",
    "all_data_df['postal'] = post_firstthree\n",
    "all_data_df['postal'] = all_data_df['postal'].str.upper()\n",
    "all_data_df = all_data_df.drop(['Address', 'Lat', 'Long'], axis=1)\n",
    "all_data_df.head()\n",
    "# city indicator- in our out of Toronto?\n",
    "\n"
   ],
   "metadata": {
    "collapsed": false,
    "pycharm": {
     "name": "#%%\n"
    }
   }
  },
  {
   "cell_type": "markdown",
   "source": [
    "Next I'll encode the postal codes as dummy variables."
   ],
   "metadata": {
    "collapsed": false
   }
  },
  {
   "cell_type": "code",
   "execution_count": 80,
   "outputs": [],
   "source": [
    "all_data_df = pd.get_dummies(all_data_df)"
   ],
   "metadata": {
    "collapsed": false,
    "pycharm": {
     "name": "#%%\n"
    }
   }
  },
  {
   "cell_type": "markdown",
   "source": [
    "Now I will do some data analysis. I will look for outliers and remove them from the data."
   ],
   "metadata": {
    "collapsed": false,
    "pycharm": {
     "name": "#%% md\n"
    }
   }
  },
  {
   "cell_type": "code",
   "execution_count": 81,
   "outputs": [
    {
     "name": "stderr",
     "output_type": "stream",
     "text": [
      "C:\\Users\\warre\\anaconda3\\envs\\Toronto Rental Prices\\lib\\site-packages\\seaborn\\distributions.py:2557: FutureWarning: `distplot` is a deprecated function and will be removed in a future version. Please adapt your code to use either `displot` (a figure-level function with similar flexibility) or `histplot` (an axes-level function for histograms).\n",
      "  warnings.warn(msg, FutureWarning)\n"
     ]
    },
    {
     "data": {
      "text/plain": "           Bedroom     Bathroom          Den          Price   postal_L1A  \\\ncount  1124.000000  1124.000000  1124.000000    1124.000000  1124.000000   \nmean      1.370107     1.237544     0.153025    3627.912811     0.000890   \nstd       0.553493     0.431997     0.360172   27530.542058     0.029827   \nmin       1.000000     1.000000     0.000000      65.000000     0.000000   \n25%       1.000000     1.000000     0.000000    1759.250000     0.000000   \n50%       1.000000     1.000000     0.000000    2100.000000     0.000000   \n75%       2.000000     1.000000     0.000000    2500.000000     0.000000   \nmax       3.000000     3.000000     1.000000  535000.000000     1.000000   \n\n        postal_L1C   postal_L1G   postal_L1H   postal_L1J   postal_L1M  ...  \\\ncount  1124.000000  1124.000000  1124.000000  1124.000000  1124.000000  ...   \nmean      0.000890     0.004448     0.008897     0.002669     0.000890  ...   \nstd       0.029827     0.066577     0.093944     0.051617     0.029827  ...   \nmin       0.000000     0.000000     0.000000     0.000000     0.000000  ...   \n25%       0.000000     0.000000     0.000000     0.000000     0.000000  ...   \n50%       0.000000     0.000000     0.000000     0.000000     0.000000  ...   \n75%       0.000000     0.000000     0.000000     0.000000     0.000000  ...   \nmax       1.000000     1.000000     1.000000     1.000000     1.000000  ...   \n\n        postal_M8V   postal_M8W   postal_M8X   postal_M8Y   postal_M9A  \\\ncount  1124.000000  1124.000000  1124.000000  1124.000000  1124.000000   \nmean      0.012456     0.000890     0.000890     0.004448     0.001779   \nstd       0.110956     0.029827     0.029827     0.066577     0.042164   \nmin       0.000000     0.000000     0.000000     0.000000     0.000000   \n25%       0.000000     0.000000     0.000000     0.000000     0.000000   \n50%       0.000000     0.000000     0.000000     0.000000     0.000000   \n75%       0.000000     0.000000     0.000000     0.000000     0.000000   \nmax       1.000000     1.000000     1.000000     1.000000     1.000000   \n\n        postal_M9B   postal_M9C   postal_M9N   postal_M9W    postal_NA  \ncount  1124.000000  1124.000000  1124.000000  1124.000000  1124.000000  \nmean      0.003559     0.005338     0.009786     0.000890     0.019573  \nstd       0.059575     0.072899     0.098485     0.029827     0.138589  \nmin       0.000000     0.000000     0.000000     0.000000     0.000000  \n25%       0.000000     0.000000     0.000000     0.000000     0.000000  \n50%       0.000000     0.000000     0.000000     0.000000     0.000000  \n75%       0.000000     0.000000     0.000000     0.000000     0.000000  \nmax       1.000000     1.000000     1.000000     1.000000     1.000000  \n\n[8 rows x 114 columns]",
      "text/html": "<div>\n<style scoped>\n    .dataframe tbody tr th:only-of-type {\n        vertical-align: middle;\n    }\n\n    .dataframe tbody tr th {\n        vertical-align: top;\n    }\n\n    .dataframe thead th {\n        text-align: right;\n    }\n</style>\n<table border=\"1\" class=\"dataframe\">\n  <thead>\n    <tr style=\"text-align: right;\">\n      <th></th>\n      <th>Bedroom</th>\n      <th>Bathroom</th>\n      <th>Den</th>\n      <th>Price</th>\n      <th>postal_L1A</th>\n      <th>postal_L1C</th>\n      <th>postal_L1G</th>\n      <th>postal_L1H</th>\n      <th>postal_L1J</th>\n      <th>postal_L1M</th>\n      <th>...</th>\n      <th>postal_M8V</th>\n      <th>postal_M8W</th>\n      <th>postal_M8X</th>\n      <th>postal_M8Y</th>\n      <th>postal_M9A</th>\n      <th>postal_M9B</th>\n      <th>postal_M9C</th>\n      <th>postal_M9N</th>\n      <th>postal_M9W</th>\n      <th>postal_NA</th>\n    </tr>\n  </thead>\n  <tbody>\n    <tr>\n      <th>count</th>\n      <td>1124.000000</td>\n      <td>1124.000000</td>\n      <td>1124.000000</td>\n      <td>1124.000000</td>\n      <td>1124.000000</td>\n      <td>1124.000000</td>\n      <td>1124.000000</td>\n      <td>1124.000000</td>\n      <td>1124.000000</td>\n      <td>1124.000000</td>\n      <td>...</td>\n      <td>1124.000000</td>\n      <td>1124.000000</td>\n      <td>1124.000000</td>\n      <td>1124.000000</td>\n      <td>1124.000000</td>\n      <td>1124.000000</td>\n      <td>1124.000000</td>\n      <td>1124.000000</td>\n      <td>1124.000000</td>\n      <td>1124.000000</td>\n    </tr>\n    <tr>\n      <th>mean</th>\n      <td>1.370107</td>\n      <td>1.237544</td>\n      <td>0.153025</td>\n      <td>3627.912811</td>\n      <td>0.000890</td>\n      <td>0.000890</td>\n      <td>0.004448</td>\n      <td>0.008897</td>\n      <td>0.002669</td>\n      <td>0.000890</td>\n      <td>...</td>\n      <td>0.012456</td>\n      <td>0.000890</td>\n      <td>0.000890</td>\n      <td>0.004448</td>\n      <td>0.001779</td>\n      <td>0.003559</td>\n      <td>0.005338</td>\n      <td>0.009786</td>\n      <td>0.000890</td>\n      <td>0.019573</td>\n    </tr>\n    <tr>\n      <th>std</th>\n      <td>0.553493</td>\n      <td>0.431997</td>\n      <td>0.360172</td>\n      <td>27530.542058</td>\n      <td>0.029827</td>\n      <td>0.029827</td>\n      <td>0.066577</td>\n      <td>0.093944</td>\n      <td>0.051617</td>\n      <td>0.029827</td>\n      <td>...</td>\n      <td>0.110956</td>\n      <td>0.029827</td>\n      <td>0.029827</td>\n      <td>0.066577</td>\n      <td>0.042164</td>\n      <td>0.059575</td>\n      <td>0.072899</td>\n      <td>0.098485</td>\n      <td>0.029827</td>\n      <td>0.138589</td>\n    </tr>\n    <tr>\n      <th>min</th>\n      <td>1.000000</td>\n      <td>1.000000</td>\n      <td>0.000000</td>\n      <td>65.000000</td>\n      <td>0.000000</td>\n      <td>0.000000</td>\n      <td>0.000000</td>\n      <td>0.000000</td>\n      <td>0.000000</td>\n      <td>0.000000</td>\n      <td>...</td>\n      <td>0.000000</td>\n      <td>0.000000</td>\n      <td>0.000000</td>\n      <td>0.000000</td>\n      <td>0.000000</td>\n      <td>0.000000</td>\n      <td>0.000000</td>\n      <td>0.000000</td>\n      <td>0.000000</td>\n      <td>0.000000</td>\n    </tr>\n    <tr>\n      <th>25%</th>\n      <td>1.000000</td>\n      <td>1.000000</td>\n      <td>0.000000</td>\n      <td>1759.250000</td>\n      <td>0.000000</td>\n      <td>0.000000</td>\n      <td>0.000000</td>\n      <td>0.000000</td>\n      <td>0.000000</td>\n      <td>0.000000</td>\n      <td>...</td>\n      <td>0.000000</td>\n      <td>0.000000</td>\n      <td>0.000000</td>\n      <td>0.000000</td>\n      <td>0.000000</td>\n      <td>0.000000</td>\n      <td>0.000000</td>\n      <td>0.000000</td>\n      <td>0.000000</td>\n      <td>0.000000</td>\n    </tr>\n    <tr>\n      <th>50%</th>\n      <td>1.000000</td>\n      <td>1.000000</td>\n      <td>0.000000</td>\n      <td>2100.000000</td>\n      <td>0.000000</td>\n      <td>0.000000</td>\n      <td>0.000000</td>\n      <td>0.000000</td>\n      <td>0.000000</td>\n      <td>0.000000</td>\n      <td>...</td>\n      <td>0.000000</td>\n      <td>0.000000</td>\n      <td>0.000000</td>\n      <td>0.000000</td>\n      <td>0.000000</td>\n      <td>0.000000</td>\n      <td>0.000000</td>\n      <td>0.000000</td>\n      <td>0.000000</td>\n      <td>0.000000</td>\n    </tr>\n    <tr>\n      <th>75%</th>\n      <td>2.000000</td>\n      <td>1.000000</td>\n      <td>0.000000</td>\n      <td>2500.000000</td>\n      <td>0.000000</td>\n      <td>0.000000</td>\n      <td>0.000000</td>\n      <td>0.000000</td>\n      <td>0.000000</td>\n      <td>0.000000</td>\n      <td>...</td>\n      <td>0.000000</td>\n      <td>0.000000</td>\n      <td>0.000000</td>\n      <td>0.000000</td>\n      <td>0.000000</td>\n      <td>0.000000</td>\n      <td>0.000000</td>\n      <td>0.000000</td>\n      <td>0.000000</td>\n      <td>0.000000</td>\n    </tr>\n    <tr>\n      <th>max</th>\n      <td>3.000000</td>\n      <td>3.000000</td>\n      <td>1.000000</td>\n      <td>535000.000000</td>\n      <td>1.000000</td>\n      <td>1.000000</td>\n      <td>1.000000</td>\n      <td>1.000000</td>\n      <td>1.000000</td>\n      <td>1.000000</td>\n      <td>...</td>\n      <td>1.000000</td>\n      <td>1.000000</td>\n      <td>1.000000</td>\n      <td>1.000000</td>\n      <td>1.000000</td>\n      <td>1.000000</td>\n      <td>1.000000</td>\n      <td>1.000000</td>\n      <td>1.000000</td>\n      <td>1.000000</td>\n    </tr>\n  </tbody>\n</table>\n<p>8 rows × 114 columns</p>\n</div>"
     },
     "execution_count": 81,
     "metadata": {},
     "output_type": "execute_result"
    },
    {
     "data": {
      "text/plain": "<Figure size 432x288 with 1 Axes>",
      "image/png": "[encoded data removed]"
     },
     "metadata": {
      "needs_background": "light"
     },
     "output_type": "display_data"
    }
   ],
   "source": [
    "Y = all_data_df['Price']\n",
    "sns.distplot(Y)\n",
    "all_data_df.describe()"
   ],
   "metadata": {
    "collapsed": false,
    "pycharm": {
     "name": "#%%\n"
    }
   }
  },
  {
   "cell_type": "markdown",
   "source": [
    "The rent prices are positively skewed, and so a transformation is needed."
   ],
   "metadata": {
    "collapsed": false,
    "pycharm": {
     "name": "#%% md\n"
    }
   }
  },
  {
   "cell_type": "code",
   "execution_count": 82,
   "outputs": [
    {
     "name": "stderr",
     "output_type": "stream",
     "text": [
      "C:\\Users\\warre\\anaconda3\\envs\\Toronto Rental Prices\\lib\\site-packages\\seaborn\\distributions.py:2557: FutureWarning: `distplot` is a deprecated function and will be removed in a future version. Please adapt your code to use either `displot` (a figure-level function with similar flexibility) or `histplot` (an axes-level function for histograms).\n",
      "  warnings.warn(msg, FutureWarning)\n"
     ]
    },
    {
     "data": {
      "text/plain": "count    1124.000000\nmean        7.642809\nstd         0.480476\nmin         4.189655\n25%         7.473211\n50%         7.650169\n75%         7.824446\nmax        13.190024\nName: Price, dtype: float64"
     },
     "execution_count": 82,
     "metadata": {},
     "output_type": "execute_result"
    },
    {
     "data": {
      "text/plain": "<Figure size 432x288 with 1 Axes>",
      "image/png": "[encoded data removed]"
     },
     "metadata": {
      "needs_background": "light"
     },
     "output_type": "display_data"
    }
   ],
   "source": [
    "Y_transformed = np.log1p(Y)\n",
    "sns.distplot(Y_transformed)\n",
    "all_data_df['Price'] = Y_transformed\n",
    "all_data_df['Price'].describe()"
   ],
   "metadata": {
    "collapsed": false,
    "pycharm": {
     "name": "#%%\n"
    }
   }
  },
  {
   "cell_type": "code",
   "execution_count": 83,
   "outputs": [
    {
     "data": {
      "text/plain": "           Bedroom     Bathroom          Den        Price   postal_L1A  \\\ncount  1114.000000  1114.000000  1114.000000  1114.000000  1114.000000   \nmean      1.371634     1.236535     0.153501     7.636554     0.000898   \nstd       0.554443     0.430657     0.360632     0.321779     0.029961   \nmin       1.000000     1.000000     0.000000     6.311735     0.000000   \n25%       1.000000     1.000000     0.000000     7.482119     0.000000   \n50%       1.000000     1.000000     0.000000     7.650169     0.000000   \n75%       2.000000     1.000000     0.000000     7.824446     0.000000   \nmax       3.000000     3.000000     1.000000     8.987322     1.000000   \n\n        postal_L1C   postal_L1G   postal_L1H   postal_L1J   postal_L1M  ...  \\\ncount  1114.000000  1114.000000  1114.000000  1114.000000  1114.000000  ...   \nmean      0.000898     0.004488     0.008977     0.002693     0.000898  ...   \nstd       0.029961     0.066875     0.094361     0.051847     0.029961  ...   \nmin       0.000000     0.000000     0.000000     0.000000     0.000000  ...   \n25%       0.000000     0.000000     0.000000     0.000000     0.000000  ...   \n50%       0.000000     0.000000     0.000000     0.000000     0.000000  ...   \n75%       0.000000     0.000000     0.000000     0.000000     0.000000  ...   \nmax       1.000000     1.000000     1.000000     1.000000     1.000000  ...   \n\n        postal_M8V   postal_M8W   postal_M8X   postal_M8Y   postal_M9A  \\\ncount  1114.000000  1114.000000  1114.000000  1114.000000  1114.000000   \nmean      0.011670     0.000898     0.000898     0.004488     0.001795   \nstd       0.107442     0.029961     0.029961     0.066875     0.042352   \nmin       0.000000     0.000000     0.000000     0.000000     0.000000   \n25%       0.000000     0.000000     0.000000     0.000000     0.000000   \n50%       0.000000     0.000000     0.000000     0.000000     0.000000   \n75%       0.000000     0.000000     0.000000     0.000000     0.000000   \nmax       1.000000     1.000000     1.000000     1.000000     1.000000   \n\n        postal_M9B   postal_M9C   postal_M9N   postal_M9W    postal_NA  \ncount  1114.000000  1114.000000  1114.000000  1114.000000  1114.000000  \nmean      0.003591     0.005386     0.009874     0.000898     0.018851  \nstd       0.059841     0.073224     0.098922     0.029961     0.136060  \nmin       0.000000     0.000000     0.000000     0.000000     0.000000  \n25%       0.000000     0.000000     0.000000     0.000000     0.000000  \n50%       0.000000     0.000000     0.000000     0.000000     0.000000  \n75%       0.000000     0.000000     0.000000     0.000000     0.000000  \nmax       1.000000     1.000000     1.000000     1.000000     1.000000  \n\n[8 rows x 114 columns]",
      "text/html": "<div>\n<style scoped>\n    .dataframe tbody tr th:only-of-type {\n        vertical-align: middle;\n    }\n\n    .dataframe tbody tr th {\n        vertical-align: top;\n    }\n\n    .dataframe thead th {\n        text-align: right;\n    }\n</style>\n<table border=\"1\" class=\"dataframe\">\n  <thead>\n    <tr style=\"text-align: right;\">\n      <th></th>\n      <th>Bedroom</th>\n      <th>Bathroom</th>\n      <th>Den</th>\n      <th>Price</th>\n      <th>postal_L1A</th>\n      <th>postal_L1C</th>\n      <th>postal_L1G</th>\n      <th>postal_L1H</th>\n      <th>postal_L1J</th>\n      <th>postal_L1M</th>\n      <th>...</th>\n      <th>postal_M8V</th>\n      <th>postal_M8W</th>\n      <th>postal_M8X</th>\n      <th>postal_M8Y</th>\n      <th>postal_M9A</th>\n      <th>postal_M9B</th>\n      <th>postal_M9C</th>\n      <th>postal_M9N</th>\n      <th>postal_M9W</th>\n      <th>postal_NA</th>\n    </tr>\n  </thead>\n  <tbody>\n    <tr>\n      <th>count</th>\n      <td>1114.000000</td>\n      <td>1114.000000</td>\n      <td>1114.000000</td>\n      <td>1114.000000</td>\n      <td>1114.000000</td>\n      <td>1114.000000</td>\n      <td>1114.000000</td>\n      <td>1114.000000</td>\n      <td>1114.000000</td>\n      <td>1114.000000</td>\n      <td>...</td>\n      <td>1114.000000</td>\n      <td>1114.000000</td>\n      <td>1114.000000</td>\n      <td>1114.000000</td>\n      <td>1114.000000</td>\n      <td>1114.000000</td>\n      <td>1114.000000</td>\n      <td>1114.000000</td>\n      <td>1114.000000</td>\n      <td>1114.000000</td>\n    </tr>\n    <tr>\n      <th>mean</th>\n      <td>1.371634</td>\n      <td>1.236535</td>\n      <td>0.153501</td>\n      <td>7.636554</td>\n      <td>0.000898</td>\n      <td>0.000898</td>\n      <td>0.004488</td>\n      <td>0.008977</td>\n      <td>0.002693</td>\n      <td>0.000898</td>\n      <td>...</td>\n      <td>0.011670</td>\n      <td>0.000898</td>\n      <td>0.000898</td>\n      <td>0.004488</td>\n      <td>0.001795</td>\n      <td>0.003591</td>\n      <td>0.005386</td>\n      <td>0.009874</td>\n      <td>0.000898</td>\n      <td>0.018851</td>\n    </tr>\n    <tr>\n      <th>std</th>\n      <td>0.554443</td>\n      <td>0.430657</td>\n      <td>0.360632</td>\n      <td>0.321779</td>\n      <td>0.029961</td>\n      <td>0.029961</td>\n      <td>0.066875</td>\n      <td>0.094361</td>\n      <td>0.051847</td>\n      <td>0.029961</td>\n      <td>...</td>\n      <td>0.107442</td>\n      <td>0.029961</td>\n      <td>0.029961</td>\n      <td>0.066875</td>\n      <td>0.042352</td>\n      <td>0.059841</td>\n      <td>0.073224</td>\n      <td>0.098922</td>\n      <td>0.029961</td>\n      <td>0.136060</td>\n    </tr>\n    <tr>\n      <th>min</th>\n      <td>1.000000</td>\n      <td>1.000000</td>\n      <td>0.000000</td>\n      <td>6.311735</td>\n      <td>0.000000</td>\n      <td>0.000000</td>\n      <td>0.000000</td>\n      <td>0.000000</td>\n      <td>0.000000</td>\n      <td>0.000000</td>\n      <td>...</td>\n      <td>0.000000</td>\n      <td>0.000000</td>\n      <td>0.000000</td>\n      <td>0.000000</td>\n      <td>0.000000</td>\n      <td>0.000000</td>\n      <td>0.000000</td>\n      <td>0.000000</td>\n      <td>0.000000</td>\n      <td>0.000000</td>\n    </tr>\n    <tr>\n      <th>25%</th>\n      <td>1.000000</td>\n      <td>1.000000</td>\n      <td>0.000000</td>\n      <td>7.482119</td>\n      <td>0.000000</td>\n      <td>0.000000</td>\n      <td>0.000000</td>\n      <td>0.000000</td>\n      <td>0.000000</td>\n      <td>0.000000</td>\n      <td>...</td>\n      <td>0.000000</td>\n      <td>0.000000</td>\n      <td>0.000000</td>\n      <td>0.000000</td>\n      <td>0.000000</td>\n      <td>0.000000</td>\n      <td>0.000000</td>\n      <td>0.000000</td>\n      <td>0.000000</td>\n      <td>0.000000</td>\n    </tr>\n    <tr>\n      <th>50%</th>\n      <td>1.000000</td>\n      <td>1.000000</td>\n      <td>0.000000</td>\n      <td>7.650169</td>\n      <td>0.000000</td>\n      <td>0.000000</td>\n      <td>0.000000</td>\n      <td>0.000000</td>\n      <td>0.000000</td>\n      <td>0.000000</td>\n      <td>...</td>\n      <td>0.000000</td>\n      <td>0.000000</td>\n      <td>0.000000</td>\n      <td>0.000000</td>\n      <td>0.000000</td>\n      <td>0.000000</td>\n      <td>0.000000</td>\n      <td>0.000000</td>\n      <td>0.000000</td>\n      <td>0.000000</td>\n    </tr>\n    <tr>\n      <th>75%</th>\n      <td>2.000000</td>\n      <td>1.000000</td>\n      <td>0.000000</td>\n      <td>7.824446</td>\n      <td>0.000000</td>\n      <td>0.000000</td>\n      <td>0.000000</td>\n      <td>0.000000</td>\n      <td>0.000000</td>\n      <td>0.000000</td>\n      <td>...</td>\n      <td>0.000000</td>\n      <td>0.000000</td>\n      <td>0.000000</td>\n      <td>0.000000</td>\n      <td>0.000000</td>\n      <td>0.000000</td>\n      <td>0.000000</td>\n      <td>0.000000</td>\n      <td>0.000000</td>\n      <td>0.000000</td>\n    </tr>\n    <tr>\n      <th>max</th>\n      <td>3.000000</td>\n      <td>3.000000</td>\n      <td>1.000000</td>\n      <td>8.987322</td>\n      <td>1.000000</td>\n      <td>1.000000</td>\n      <td>1.000000</td>\n      <td>1.000000</td>\n      <td>1.000000</td>\n      <td>1.000000</td>\n      <td>...</td>\n      <td>1.000000</td>\n      <td>1.000000</td>\n      <td>1.000000</td>\n      <td>1.000000</td>\n      <td>1.000000</td>\n      <td>1.000000</td>\n      <td>1.000000</td>\n      <td>1.000000</td>\n      <td>1.000000</td>\n      <td>1.000000</td>\n    </tr>\n  </tbody>\n</table>\n<p>8 rows × 114 columns</p>\n</div>"
     },
     "execution_count": 83,
     "metadata": {},
     "output_type": "execute_result"
    }
   ],
   "source": [
    "new_all_data = all_data_df[(np.abs(stats.zscore(all_data_df['Price'])) < 3)]\n",
    "new_all_data.describe()"
   ],
   "metadata": {
    "collapsed": false,
    "pycharm": {
     "name": "#%%  # Remove z-score > 3 outliers\n"
    }
   }
  },
  {
   "cell_type": "markdown",
   "source": [
    "Now I'll split the data into a testing and training set."
   ],
   "metadata": {
    "collapsed": false
   }
  },
  {
   "cell_type": "code",
   "execution_count": 84,
   "outputs": [
    {
     "data": {
      "text/plain": "(279, 113)"
     },
     "execution_count": 84,
     "metadata": {},
     "output_type": "execute_result"
    }
   ],
   "source": [
    "trainX, testX, trainY, testY = train_test_split(new_all_data.drop(['Price'], axis=1), new_all_data['Price'])\n",
    "trainX.shape\n",
    "testX.shape\n"
   ],
   "metadata": {
    "collapsed": false,
    "pycharm": {
     "name": "#%%\n"
    }
   }
  },
  {
   "cell_type": "markdown",
   "source": [
    "## The model\n",
    "Now it's time to create the model. I'll use the XGBRegressor."
   ],
   "metadata": {
    "collapsed": false,
    "pycharm": {
     "name": "#%% md\n"
    }
   }
  },
  {
   "cell_type": "code",
   "execution_count": 85,
   "outputs": [],
   "source": [
    "model1 = XGBRegressor()\n",
    "model1.fit(trainX, trainY)\n",
    "predictions = np.exp(model1.predict(testX))\n",
    "\n",
    "output= pd.DataFrame()\n",
    "output['predictions'] = predictions\n",
    "output.to_csv('predictions.csv', index=False)"
   ],
   "metadata": {
    "collapsed": false,
    "pycharm": {
     "name": "#%%\n"
    }
   }
  },
  {
   "cell_type": "code",
   "execution_count": 85,
   "outputs": [],
   "source": [],
   "metadata": {
    "collapsed": false,
    "pycharm": {
     "name": "#%%\n"
    }
   }
  },
  {
   "cell_type": "code",
   "execution_count": 85,
   "outputs": [],
   "source": [],
   "metadata": {
    "collapsed": false,
    "pycharm": {
     "name": "#%%\n"
    }
   }
  }
 ],
 "metadata": {
  "kernelspec": {
   "display_name": "Python 3",
   "language": "python",
   "name": "python3"
  },
  "language_info": {
   "codemirror_mode": {
    "name": "ipython",
    "version": 2
   },
   "file_extension": ".py",
   "mimetype": "text/x-python",
   "name": "python",
   "nbconvert_exporter": "python",
   "pygments_lexer": "ipython2",
   "version": "2.7.6"
  }
 },
 "nbformat": 4,
 "nbformat_minor": 0
}